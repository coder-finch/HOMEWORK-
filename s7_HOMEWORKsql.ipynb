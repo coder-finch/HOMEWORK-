{
 "cells": [
  {
   "cell_type": "markdown",
   "id": "e62b475c",
   "metadata": {},
   "source": [
    "***LEON FINCH \n",
    "\n",
    "***SECTION 7 SQL HOMEWORK\n",
    "\n",
    "\n",
    "**7.1\n",
    "\n",
    "1. Using EVregistry, Write a query to select the ModelYear, Make, and Model off all of the vehicles in the registry.\n",
    "\n",
    "--SELECT  ModelYear, Make, Model FROM EVRegistry\n",
    "\n",
    "\n",
    "1. Using the EVRegistry table, Write a query that lists all of the unique types of EV's. your reult set should have one column, ElectricVehicleType.\n",
    "\n",
    "--SELECT ElectricVehicleType from EVRegistry GROUP by ElectricVehicleType\n",
    "\n",
    "1. Using the EVRegistry, Write a query that shows all of the information on Battery Electric Vehicles (BEV) that are in the registry.\n",
    "\n",
    "--SELECT * from EVRegistry WHERE ElectricVehicleType = 'Battery Electric Vehicle (BEV)'\n",
    "\n",
    "1. Using the EVRegistry, wirte a query that returns the Make and Model of all of the EV's that have a BaseMSRP between 20000 and 35000?\n",
    "\n",
    "--SELECT Make, Model from EVRegistry where BaseMSRP > 20000 < 35000\n",
    "\n"
   ]
  },
  {
   "cell_type": "markdown",
   "id": "e7242551",
   "metadata": {},
   "source": [
    "**7.2\n",
    "\n",
    "1. Using EVRegistry, write a query to find a record where the City attribute is NULL. Return all of the available columns.\n",
    "\n",
    "--SELECT * from EVRegistry WHERE city = NULL;\n",
    "\n",
    "1. Write a query to find the make, model, and ElectricVehicleType where the VIN number has that ends in '3E1EA1J'.\n",
    "\n",
    "--SELECT Make, model, ElectricVehicleType FROM EVRegistry where VIN like '%3E1EA1J'\n",
    "\n",
    "1. Select the ModelYear, make, model, ElectricVehicleType, and range of the Tesla vehicles or cheverolet vehicles in the registry. Order the result set by Make and Model year in from newest to oldest.\n",
    "\n",
    "--SELECT ModelYear, Make, Model, ElectricVehicleType, ElectricRange FROM EVRegistry WHERE make = 'CHEVROLET' OR MAKE = 'TESLA' ORDER BY ModelYear DESC\n",
    "\n",
    "\n",
    "1. Using EVCharging, Write a query to find out how many times those stations were used. Order them by the most used to the least used and limit the output to 5 records.\n",
    "\n",
    "--SELECT stationId, count (*) as numUses from EVCharging group by stationId ORDER by count (*) DESC\n",
    "\n",
    "1. Using EVCharging, For the folks who charged longer than 0.5 hours, show the min and max of the charging time for each user. Your output columns should be userid, minTime, and maxTime. Order this result set by the last two columns respectively.\n",
    "\n",
    "--SELECT userId, min(chargeTimeHrs) as 'mintime', max(chargeTimeHrs) as 'maxtime' from EVCharging where chargeTimeHrs > 0.5 group by userId order by 2,3"
   ]
  },
  {
   "cell_type": "markdown",
   "id": "30666ffa",
   "metadata": {},
   "source": [
    "**7.3\n",
    "\n",
    "1. Using EVCharging, Which day of the week has the highest average charging time? Round the answer to 2 decimal points.\n",
    "\n",
    "--SELECT round (avg(chargeTimeMins), 2) as aveCHARGE, weekday from EVCharging group by weekday ORDER by aveCHARGE DESC\n",
    "\n",
    "1. Using, EV charging, Find the total power consumed from charging EV's by each User. Return the userId and name the calculated column, totalPower. Round the answer to 2 deciaml points and list the out put in highest to lowest order. Limit the order to the top 15 users.\n",
    "\n",
    "--SELECT round(sum(kwhTotal), 2) as totalpower, userId from EVCharging group by userId ORDER by 1 DESC LIMIT 15\n",
    "\n",
    "1. Using dimfacility and factCharge, write a query to find out which type of facility (GROUP BY) has the most amount of charging stations. Return type Facility and name the calculated column numStation. Order the result set from highest to lowest number of charging stations.\n",
    "\n",
    "--select typeFacility, count(*) as numStation from factCharge INNER join dimFacility on FacilityKey = facilityID group by typeFacility order by 2 DESC\n",
    "\n",
    "1. In your own words, Briefly explain Primary Keys and Foreign Keys.\n",
    "\n",
    "--The Primary key is a unique identifier in a table that does not have any null values. The Foreign key is what the primary key is in a connected table.\n",
    "\n",
    "1. Using EV Charging, For the folks who charged longer than one hour, show the min and max of the charging time for each user. Your output columns should be userid, minTime, and maxTime. Order this result set by the last two columns respectively. HINT: USE HAVING\n",
    "\n",
    "--SELECT userId, min(chargeTimeHrs) as minTime, max(chargeTimeHrs) as maxTime\n",
    "from EVCharging\n",
    "group by userId HAVING minTime > 1.0\n",
    "ORDER by 2,3\n"
   ]
  }
 ],
 "metadata": {
  "language_info": {
   "name": "python"
  }
 },
 "nbformat": 4,
 "nbformat_minor": 5
}
